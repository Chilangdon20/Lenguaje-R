{
 "cells": [
  {
   "cell_type": "markdown",
   "metadata": {},
   "source": [
    "## Distribución geométrica\n",
    "\n",
    "INTRODUCCIÓN:\n",
    "\n",
    "* Todos hemos jugado a, por ejemplo, tirar una moneda hasta que obtengamos la primera cara.\n",
    "\n",
    "* O también tirar una pelota a una canasta de baloncesto hasta obtener la primera canasta.\n",
    "\n",
    "* Desde otro punto de vista también podemos intentar modelar el número de veces que accionamos una interruptor  y la bombilla se ilumina  hasta que falla. \n",
    "\n",
    "\n",
    "La **modelización de este tipo de problemas se consigue con la  llamada distribución geométrica**.\n",
    "\n",
    "\n",
    "* Repitamos un experimento Bernoulli, de parámetro $p$, de forma independiente hasta obtener el primer éxito.\n",
    "\n",
    "* Sea $X$ la v.a. que cuenta el número de fracasos antes del primer éxito. Por ejemplo  que  hayamos tenido  $x$ fracasos  será una cadena de $x$ fracasos culminada con un éxito. Más concretamente \n",
    "\n",
    "$$P(\\overbrace{FFF\\ldots F}^{x}E)=P(F)^{x}\\cdot P(E)=(1-p)^{x}\\cdot p=q^{x}\\cdot p.$$\n",
    "\n",
    "## Función de probabilidad:\n",
    "\n",
    "$$\n",
    "P_X(x)=P(X=x)=\\left\\{\\begin{array}{ll}\n",
    "(1-p)^{x}\\cdot p & \\mbox{ si } x=0,1,2,\\ldots\\\\\n",
    "0 &\\mbox{ en otro caso}\n",
    "\\end{array}\\right..\n",
    "$$\n",
    "\n",
    "$D_X=\\{0,1,2,\\ldots\\}$\n",
    "\n",
    "## Función de distribución:\n",
    "\n",
    "Generalizando el resultado anterior a cualquier entero positivo $k=0,1,2,\\ldots$, tenemos:\n",
    "$$F_X(k)=P(X\\leq k)=1-(1-p)^{k+1},\\mbox{ si } k=0,1,2,\\ldots$$\n",
    "\n",
    "## Función de distribución geométrica\n",
    "\n",
    "\n",
    "En general, tendremos que:\n",
    "\n",
    "$$\n",
    "F_X(x)=P(X\\leq x)=\n",
    "\\left\\{\\begin{array}{ll} \n",
    "0, & \\mbox{ si } x<0,\\\\\n",
    "1- (1-p),  & \\mbox{ si } k=0\\leq x <1,\\\\\n",
    "1- (1-p)^2, & \\mbox{ si } k=1\\leq x <2,\\\\\n",
    "1- (1-p)^3, & \\mbox{ si } k=2\\leq x <3,\\\\\n",
    "1- (1-p)^{k+1}, & \\mbox{ si } \\left\\{ \\begin{array}{l}k\\leq x< k+1,\\\\\\mbox{para } k=0,1,2,\\ldots\\end{array}\n",
    "    \\right.\\end{array}\\right.\n",
    "$$\n",
    "\n",
    "Una forma resumida seria:\n",
    "\n",
    "$$\n",
    "F_X(x)=P(X\\leq x)=\n",
    "\\left\\{\\begin{array}{ll} \n",
    "0, & \\mbox{ si } x<0,\\\\\n",
    "1- (1-p)^{k+1}, & \\mbox{ si } \\left\\{ \\begin{array}{l}k\\leq x< k+1,\\\\\\mbox{para } k=0,1,2,\\ldots\\end{array}\n",
    "    \\right.\\end{array}\n",
    "    \\right.\n",
    "$$\n",
    "\n",
    "## Esperanza:\n",
    "\n",
    "$$\n",
    "\\begin{eqnarray*}\n",
    "E(X)&=&\\sum_{x=0}^{+\\infty} x\\cdot P_x(x)=\\sum_{x=0}^{+\\infty} x\\cdot (1-p)^x\\cdot p\\\\\n",
    "&=& p\\cdot (1-p) \\cdot \\sum_{x=1}^{+\\infty} x\\cdot (1-p)^{x-1}\\\\\n",
    "&=& p\\cdot (1-p)\\cdot \\frac{1}{(1-(1-p))^2}=p\\cdot (1-p)\\cdot \\frac{1}{p^2}=\\frac{1-p}{p}\n",
    "\\end{eqnarray*}\n",
    "$$\n",
    "\n",
    "## Valor $E(X^2)$ de una v.a. $Ge(p)$\n",
    "\n",
    "$$\n",
    "\\begin{eqnarray*}\n",
    "E(X^2)&=&\\sum_{x=0}^{+\\infty} x^2\\cdot P_X(x)=\\sum_{x=1}^{+\\infty} x^2\\cdot (1-p)^x\\cdot p\\\\\n",
    "&=& \n",
    "\\sum_{x=1}^{+\\infty} (x\\cdot (x-1)+x)\\cdot (1-p)^{x}\\cdot p\\\\\n",
    "&=&\n",
    "\\sum_{x=1}^{+\\infty} x\\cdot (x-1)\\cdot (1-p)^{x}\\cdot p+\\sum_{x=1}^{+\\infty} x \\cdot (1-p)^{x}\\cdot p\\\\\n",
    "&=&\n",
    "(1-p)^{2}\\cdot p\\cdot \\sum_{x=2}^{+\\infty} x\\cdot (x-1)\\cdot (1-p)^{x-2}\\\\ \n",
    "&  +&   (1-p)\\cdot p\\sum_{x=1}^{+\\infty} x \\cdot (1-p)^{x-1} = \\ldots\n",
    "\\end{eqnarray*}.\n",
    "$$\n",
    "\n",
    "## Valor $E(X^2)$ de una v.a. $Ge(p)$\n",
    "\n",
    "$$\n",
    "\\begin{eqnarray*}\n",
    "E(X^2)&=&\\ldots\\\\\n",
    "&=&\n",
    "(1-p)^{2}\\cdot p\\cdot \\sum_{x=2}^{+\\infty} x\\cdot (x-1)\\cdot (1-p)^{x-2}\\\\ \n",
    "&  +&   (1-p)\\cdot p\\sum_{x=1}^{+\\infty} x \\cdot (1-p)^{x-1}\\\\\n",
    "&=&\n",
    "p\\cdot (1-p)^2 \\frac{2}{(1-(1-p))^3}+  (1-p)\\cdot p \\frac{1}{(1-(1-p))^2}\\\\\n",
    "&=&\n",
    "p\\cdot (1-p)^2 \\frac{2}{p^3}+  (1-p)\\cdot p \\frac{1}{p^2}\\\\\n",
    "&=&\\frac{2\\cdot (1-p)^2}{p^2}+\\frac{1-p}{p}.\n",
    "\\end{eqnarray*}\n",
    "$$\n",
    "\n",
    "## Varianza de una v.a. $Ge(p)$\n",
    "\n",
    "\n",
    "$$\n",
    "\\begin{eqnarray*}\n",
    "Var(X)&=&E(X^2)-E(X)^2=\\frac{2\\cdot (1-p)^2}{p^2}+\\frac{1-p}{p}-\\left(\\frac{1-p}{p}\\right)^2\\\\\n",
    "&=&\n",
    "\\frac{2\\cdot (1-p)^2+p\\cdot(1-p)-(1-p)^2}{p^2}=\\frac{(1-p)^2+p\\cdot(1-p)}{p^2}\\\\\n",
    "&=&\n",
    "\\frac{1-2\\cdot p + p^2+p-p^2}{p^2}\\\\\n",
    "&=& \\frac{1-p}{p^2}.\n",
    "\\end{eqnarray*}\n",
    "$$\n",
    "\n",
    "Y su desviación típica será\n",
    "\n",
    "$$\\sqrt{Var(X)}=\\sqrt{\\frac{1-p}{p^2}}.$$\n",
    "\n",
    "## Cálculos con R\n",
    "\n",
    "Veamos los cálculos básicos con  R para la distribución geométrica  $Ge(p=0.25)$. R implementa la geométrica que cuenta el número de fracasos.\n",
    "\n",
    "$P(X=0)=(1-0.25)^0\\cdot 0.25^1=0.25$"
   ]
  },
  {
   "cell_type": "code",
   "execution_count": 1,
   "metadata": {},
   "outputs": [
    {
     "data": {
      "text/html": [
       "0.25"
      ],
      "text/latex": [
       "0.25"
      ],
      "text/markdown": [
       "0.25"
      ],
      "text/plain": [
       "[1] 0.25"
      ]
     },
     "metadata": {},
     "output_type": "display_data"
    }
   ],
   "source": [
    "dgeom(0,prob=0.25)"
   ]
  },
  {
   "cell_type": "markdown",
   "metadata": {},
   "source": [
    "$P(X\\leq 0)=1-(1-0.25)^{0+1}=1-0.75=0.25$"
   ]
  },
  {
   "cell_type": "code",
   "execution_count": 2,
   "metadata": {},
   "outputs": [
    {
     "data": {
      "text/html": [
       "0.25"
      ],
      "text/latex": [
       "0.25"
      ],
      "text/markdown": [
       "0.25"
      ],
      "text/plain": [
       "[1] 0.25"
      ]
     },
     "metadata": {},
     "output_type": "display_data"
    }
   ],
   "source": [
    "pgeom(0,prob=0.25)"
   ]
  },
  {
   "cell_type": "markdown",
   "metadata": {},
   "source": [
    "$P(X\\leq 4)=1-(1-0.25)^{4+1}=1-0.75=1-0.75^5=`r 1-0.75^5`.$"
   ]
  },
  {
   "cell_type": "code",
   "execution_count": 5,
   "metadata": {},
   "outputs": [
    {
     "data": {
      "text/html": [
       "0.7627"
      ],
      "text/latex": [
       "0.7627"
      ],
      "text/markdown": [
       "0.7627"
      ],
      "text/plain": [
       "[1] 0.7627"
      ]
     },
     "metadata": {},
     "output_type": "display_data"
    }
   ],
   "source": [
    "round(pgeom(4,prob=0.25),4)"
   ]
  },
  {
   "cell_type": "markdown",
   "metadata": {},
   "source": [
    "Una muestra aleatoria de tamaño 50 de una $Ge(0.25)$"
   ]
  },
  {
   "cell_type": "code",
   "execution_count": 9,
   "metadata": {},
   "outputs": [
    {
     "data": {
      "text/html": [
       "<style>\n",
       ".list-inline {list-style: none; margin:0; padding: 0}\n",
       ".list-inline>li {display: inline-block}\n",
       ".list-inline>li:not(:last-child)::after {content: \"\\00b7\"; padding: 0 .5ex}\n",
       "</style>\n",
       "<ol class=list-inline><li>0</li><li>3</li><li>2</li><li>6</li><li>2</li><li>4</li><li>1</li><li>0</li><li>14</li><li>6</li><li>7</li><li>8</li><li>1</li><li>3</li><li>8</li><li>7</li><li>2</li><li>1</li><li>0</li><li>10</li><li>3</li><li>3</li><li>3</li><li>0</li><li>8</li><li>2</li><li>5</li><li>1</li><li>6</li><li>2</li><li>1</li><li>1</li><li>4</li><li>2</li><li>1</li><li>9</li><li>2</li><li>10</li><li>6</li><li>1</li><li>1</li><li>3</li><li>3</li><li>2</li><li>0</li><li>4</li><li>3</li><li>3</li><li>11</li><li>2</li></ol>\n"
      ],
      "text/latex": [
       "\\begin{enumerate*}\n",
       "\\item 0\n",
       "\\item 3\n",
       "\\item 2\n",
       "\\item 6\n",
       "\\item 2\n",
       "\\item 4\n",
       "\\item 1\n",
       "\\item 0\n",
       "\\item 14\n",
       "\\item 6\n",
       "\\item 7\n",
       "\\item 8\n",
       "\\item 1\n",
       "\\item 3\n",
       "\\item 8\n",
       "\\item 7\n",
       "\\item 2\n",
       "\\item 1\n",
       "\\item 0\n",
       "\\item 10\n",
       "\\item 3\n",
       "\\item 3\n",
       "\\item 3\n",
       "\\item 0\n",
       "\\item 8\n",
       "\\item 2\n",
       "\\item 5\n",
       "\\item 1\n",
       "\\item 6\n",
       "\\item 2\n",
       "\\item 1\n",
       "\\item 1\n",
       "\\item 4\n",
       "\\item 2\n",
       "\\item 1\n",
       "\\item 9\n",
       "\\item 2\n",
       "\\item 10\n",
       "\\item 6\n",
       "\\item 1\n",
       "\\item 1\n",
       "\\item 3\n",
       "\\item 3\n",
       "\\item 2\n",
       "\\item 0\n",
       "\\item 4\n",
       "\\item 3\n",
       "\\item 3\n",
       "\\item 11\n",
       "\\item 2\n",
       "\\end{enumerate*}\n"
      ],
      "text/markdown": [
       "1. 0\n",
       "2. 3\n",
       "3. 2\n",
       "4. 6\n",
       "5. 2\n",
       "6. 4\n",
       "7. 1\n",
       "8. 0\n",
       "9. 14\n",
       "10. 6\n",
       "11. 7\n",
       "12. 8\n",
       "13. 1\n",
       "14. 3\n",
       "15. 8\n",
       "16. 7\n",
       "17. 2\n",
       "18. 1\n",
       "19. 0\n",
       "20. 10\n",
       "21. 3\n",
       "22. 3\n",
       "23. 3\n",
       "24. 0\n",
       "25. 8\n",
       "26. 2\n",
       "27. 5\n",
       "28. 1\n",
       "29. 6\n",
       "30. 2\n",
       "31. 1\n",
       "32. 1\n",
       "33. 4\n",
       "34. 2\n",
       "35. 1\n",
       "36. 9\n",
       "37. 2\n",
       "38. 10\n",
       "39. 6\n",
       "40. 1\n",
       "41. 1\n",
       "42. 3\n",
       "43. 3\n",
       "44. 2\n",
       "45. 0\n",
       "46. 4\n",
       "47. 3\n",
       "48. 3\n",
       "49. 11\n",
       "50. 2\n",
       "\n",
       "\n"
      ],
      "text/plain": [
       " [1]  0  3  2  6  2  4  1  0 14  6  7  8  1  3  8  7  2  1  0 10  3  3  3  0  8\n",
       "[26]  2  5  1  6  2  1  1  4  2  1  9  2 10  6  1  1  3  3  2  0  4  3  3 11  2"
      ]
     },
     "metadata": {},
     "output_type": "display_data"
    }
   ],
   "source": [
    "rgeom(n=50,prob=0.25)"
   ]
  },
  {
   "cell_type": "markdown",
   "metadata": {},
   "source": [
    "## Gráficos con ``R``:\n"
   ]
  },
  {
   "cell_type": "code",
   "execution_count": 19,
   "metadata": {},
   "outputs": [
    {
     "data": {
      "image/png": "[encoded data removed]",
      "text/plain": [
       "Plot with title “Func.D.Ge(0.5)”"
      ]
     },
     "metadata": {},
     "output_type": "display_data",
     "source": "R display func"
    }
   ],
   "source": [
    "par(mfrow = c(2,1))\n",
    "plot(0:20, dgeom(0:20,0.5),col = \"blue\", xlab = \"\", ylab = \"\", main = \"Func.P.Ge(0.5)\")\n",
    "plot(0:20, pgeom(0:20,0.5),col = \"red\", xlab = \"\", ylab = \"\", main = \"Func.D.Ge(0.5)\", ylim = c(0,1))\n",
    "par(mfrow= c(1,1))"
   ]
  },
  {
   "cell_type": "code",
   "execution_count": 1,
   "metadata": {},
   "outputs": [],
   "source": [
    "from scipy.stats import geom\n",
    "import matplotlib.pyplot as plt\n",
    "import numpy as np"
   ]
  },
  {
   "cell_type": "code",
   "execution_count": 4,
   "metadata": {},
   "outputs": [
    {
     "name": "stdout",
     "output_type": "stream",
     "text": [
      "Media:  3.3333333333333335\n",
      "Varianza:  7.777777777777779\n",
      "Sesgo:  2.031888635868469\n",
      "Curtosis:  6.128571428571429\n"
     ]
    },
    {
     "data": {
      "image/png": "[encoded data removed]",
      "text/plain": [
       "<Figure size 432x288 with 1 Axes>"
      ]
     },
     "metadata": {
      "needs_background": "light"
     },
     "output_type": "display_data"
    }
   ],
   "source": [
    "fig,ax = plt.subplots(1,1)\n",
    "p = 0.3\n",
    "mean,var,skew,kurt = geom.stats(p,moments = 'mvsk')\n",
    "print(\"Media: \",mean)\n",
    "print(\"Varianza: \",var)\n",
    "print(\"Sesgo: \",skew)\n",
    "print(\"Curtosis: \",kurt)\n",
    "x = np.arange(geom.ppf(0.100,p), geom.ppf(0.99,p))\n",
    "ax.plot(x,geom.ppf(x,p),'bo',ms = 8,label=\"Funcion de probabilidad Geom(0.3)\")\n",
    "ax.vlines(x,0,geom.pmf(x,p),colors=\"blue\", lw=4,alpha = 0.5)\n",
    "rv = geom(p)\n",
    "ax.vlines(x,0,rv.pmf(x),colors='red',linestyles =\"--\", lw = 1,label=\n",
    "         \"FrozenPMF\")\n",
    "ax.legend(loc = 'best')\n",
    "plt.show()"
   ]
  },
  {
   "cell_type": "code",
   "execution_count": 17,
   "metadata": {},
   "outputs": [
    {
     "data": {
      "image/png": "[encoded data removed]",
      "text/plain": [
       "<Figure size 432x288 with 1 Axes>"
      ]
     },
     "metadata": {
      "needs_background": "light"
     },
     "output_type": "display_data"
    }
   ],
   "source": [
    "fig,ax = plt.subplots(1,1)\n",
    "prob = geom.cdf(x,p)\n",
    "ax.plot(x,prob,'bo',ms = 8, label = \"Funcion de distribucion acumulada\",color=\"purple\",\n",
    ")\n",
    "ax.vlines(x,prob,geom.pmf(x,prob),colors=\"blue\", lw=1,alpha = 0.5,linestyles=\"--\")\n",
    "plt.show()"
   ]
  },
  {
   "cell_type": "code",
   "execution_count": null,
   "metadata": {},
   "outputs": [],
   "source": []
  }
 ],
 "metadata": {
  "kernelspec": {
   "display_name": "Python",
   "language": "python",
   "name": "conda-env-python-py"
  },
  "language_info": {
   "codemirror_mode": {
    "name": "ipython",
    "version": 3
   },
   "file_extension": ".py",
   "mimetype": "text/x-python",
   "name": "python",
   "nbconvert_exporter": "python",
   "pygments_lexer": "ipython3",
   "version": "3.6.10"
  }
 },
 "nbformat": 4,
 "nbformat_minor": 4
}
