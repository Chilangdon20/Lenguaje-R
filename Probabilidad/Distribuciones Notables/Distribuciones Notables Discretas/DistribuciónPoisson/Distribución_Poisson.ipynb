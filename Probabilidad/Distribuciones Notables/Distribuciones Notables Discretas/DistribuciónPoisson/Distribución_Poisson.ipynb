{
 "cells": [
  {
   "cell_type": "markdown",
   "metadata": {},
   "source": [
    "# Distribución de Poisson\n",
    "\n",
    "## Introducción:\n",
    "\n",
    "Diremos que una v.a. discreta $X$ con $X(\\Omega)=\\mathbf{N}$ tiene distribución de Poisson con parámetro $\\lambda>0$, y lo denotaremos por $Po(\\lambda)$ si su función de probabilidad es:\n",
    "\n",
    "$$\n",
    "P_{X}(x)=P(X=x)=\n",
    "\\left\\{\\begin{array}{ll}\n",
    "\\frac{\\lambda^x}{x!} e^{-\\lambda}& \\mbox{ si } x=0,1,\\ldots\\\\\n",
    "0 & \\mbox{en otro caso}\\end{array}\\right..\n",
    "$$\n",
    "\n",
    "\n",
    "\n",
    "## ¿De donde viene?\n",
    "\n",
    "Usando que el desarrollo en serie  de Taylor de la función exponencial es \n",
    "$$\n",
    "e^{\\lambda}=\\sum_{x=0}^{+\\infty} \\frac{\\lambda^x}{x!},\n",
    "$$\n",
    "es  fácil comprobar que la suma de la función de probabilidad en todos los valores del dominio de $X$, o sea, los enteros positivos, vale 1.\n",
    "\n",
    "\n",
    "Además recordemos que   dado $x\\in\\mathbb{R}-\\{0\\}$   se tiene que  \n",
    "\n",
    "$$\n",
    "\\lim_{n\\to\\infty} \\left(1+\\frac{x}{n}\\right)^n=e^x.\n",
    "$$\n",
    "\n",
    "\n",
    "Usando la expresión anterior para $x=-\\lambda$, tenemos:\n",
    "\n",
    "$$\n",
    "\\lim_{n\\to\\infty} \\left(1-\\frac{\\lambda}{n}\\right)^n=\\lim_{n\\to\\infty} \\left(1+\\frac{-\\lambda}{n}\\right)^n=e^{-\\lambda}.\n",
    "$$\n",
    "\n",
    "\n",
    "## La distribución de Poisson como \"límite\" de una binomial.\n",
    "\n",
    "La distribución de Poisson ([Siméon Denis Poisson](https://es.wikipedia.org/wiki/Sim%C3%A9on_Denis_Poisson)) aparece en el conteo de determinados  eventos que se producen en un intervalo de tiempo o en el espacio.\n",
    "\n",
    "Supongamos que nuestra variable de interés es  $X$, el número de eventos en el intervalo de tiempo $(0,w]$, por ejemplo el número de llamadas a un *centro de reclamos* en una hora donde suponemos que se cumplen las siguientes condiciones:\n",
    "\n",
    "\n",
    "1. El número promedio de eventos en el intervalo $(0,w]$ es\n",
    "$\\lambda>0$.\n",
    "\n",
    "2. Es posible dividir el intervalo de tiempo en un\n",
    "gran número de subintervalos (denotemos por $n$ al número de intervalos) de forma que:\n",
    "\n",
    "    * La probabilidad de que se produzcan dos o más eventos en un subintervalo es despreciable.\n",
    "    * El número de ocurrencias de eventos en un intervalo  es independiente del número de ocurrencias en otro intervalo.\n",
    "    * La probabilidad de que un evento ocurra en un subintervalo es $p_n=\\frac{\\lambda}{n}$·\n",
    "\n",
    "\n",
    "Bajo estas condiciones, podemos considerar que el número de eventos en el intervalo $(0,w]$ será el número de \"éxitos\" en $n$ repeticiones independientes de un proceso Bernoulli de parámetro $p_n$\n",
    "\n",
    "Entonces si $n\\to\\infty$ y $p_n\\cdot n$ se mantiene igual a $\\lambda$ resulta que la función de probabilidad de $X$ se puede escribir como:\n",
    "\n",
    "\n",
    "$$\n",
    "\\begin{array}{rl}\n",
    "P(X_n=k)&=\\left(\\begin{array}{c} n\\\\ k\\end{array}\\right) \\cdot p_n^k\\cdot  (1-p_n)^{n-k}\n",
    "\\\\\n",
    "&= {n\\choose k}\\cdot \\left(\\frac{\\lambda}{n}\\right)^{k}\\cdot \\left(1-\\frac{\\lambda}{n}\\right)^{n-k}\\\\\n",
    "&=\n",
    "\\frac{\\lambda^k}{k!}\\cdot\\frac{n!}{(n-k)!\\cdot n^k}\\cdot\n",
    "\\left(1-\\frac{\\lambda}{n}\\right)^{n}\\cdot \\left(1-\\frac{\\lambda}{n}\\right)^{-k}.\n",
    "\\end{array}\n",
    "$$\n",
    "\n",
    "\n",
    "Si hacemos tender $n$ hacia $\\infty$, obtenemos:\n",
    "$$\n",
    "\\lim_{n\\to \\infty} P(X_n=k) = \\lim_{n\\to \\infty} \\frac{\\lambda^k}{k!}\\cdot\\frac{n!}{(n-k)!\\cdot n^k} \\cdot\n",
    "\\left(1-\\frac{\\lambda}{n}\\right)^{n}\\cdot \\left(1-\\frac{\\lambda}{n}\\right)^{-k}.\n",
    "$$\n",
    "\n",
    "Ahora calculemos el límite de algunos de los factores de la expresión \n",
    "\n",
    "$$\n",
    "\\displaystyle\\lim_{n\\to \\infty}\\frac{n!}{(n-k)!\\cdot n^k}= \\lim_{n\\to \\infty}\\frac{n\\cdot (n-1)\\cdots (n-k-1)}{n^k}\n",
    "=\\lim_{n\\to \\infty}\\frac{n^{k}+\\cdots}{n^k}=1.\n",
    "$$\n",
    "\n",
    "\n",
    "\n",
    "$$\n",
    "\\lim_{n\\to \\infty} \\left(1-\\frac{\\lambda}{n}\\right)^{n}=e^{-\\lambda}\n",
    "$$\n",
    "\n",
    "\n",
    "Y  también teniendo en cuanta que $k$ es constante.\n",
    "\n",
    "$$\n",
    "\\lim_{n\\to \\infty} \\left(1-\\frac{\\lambda}{n}\\right)^{-k}=\\lim_{n\\to \\infty} 1^{-k}=\\lim_{n\\to \\infty}  1=1.\n",
    "$$\n",
    "\n",
    "\n",
    "Por ultimo.\n",
    "\n",
    "$$\n",
    "\\displaystyle\\lim_{n\\to\\infty} P(X_n=k)=\n",
    "\\lim_{n\\to\\infty} \\left(\\begin{array}{c} n\\\\ k\\end{array}\\right)\n",
    "\\cdot p_n^k \\cdot (1-p_n)^{n-k}= \\frac{\\lambda^k}{k!}\\cdot 1 \\cdot e^{-\\lambda}\\cdot 1=\\frac{\\lambda^k}{k!}\\cdot e^{-\\lambda}.\n",
    "$$\n",
    "\n",
    "Lo que confirma que  límite de una serie de variables \n",
    "$B(n,p_n=\\frac{\\lambda}{n})$ sigue una ley $Po(\\lambda)$.\n",
    "\n",
    "\n",
    "# Procesos de Poisson\n",
    "\n",
    "Lo interesante de las variables Poisson es que podemos modificar (si el modelo lo permite)  el intervalo de tiempo $(0,t]$ en el que contamos los eventos.\n",
    "\n",
    "Claro que esto no tiene que poder ser así. \n",
    "\n",
    "Pero en general si la variable es poisson en  $(0,t]$  también lo será en cualquier subintervalo $(0,t']$ para todo $t'$ tal que  $0<t'<t$. \n",
    "\n",
    "Así que podremos definir una serie de variables $X_t$ de distribución $Po(\\lambda\\cdot t)$.\n",
    "\n",
    "\n",
    "<l class=\"prop\"> Definición procesos de Poisson </l>\n",
    "\n",
    "Consideremos  un experimento *Poisson*  con $\\lambda$ igual\n",
    "al promedio de eventos en una unidad de tiempo (u.t.).\n",
    "\n",
    "Si $t$ es una cantidad de tiempo en u.t., la v.a. $X_{t}$=numero de eventos en el intervalo $(0,t]$ es una $Po(\\lambda\\cdot t)$.\n",
    "\n",
    "El conjunto de variables $\\{X_t\\}_{t>0}$ recibe el nombre de **proceso de Poisson**.\n",
    "\n",
    "\n",
    "## Resumen distribución  Poisson  $X\\equiv Po(\\lambda)$\n",
    "\n",
    "$X$ Poisson |  $\\lambda$\n",
    "-------:|:-------\n",
    "$D_X=$|  $\\{0,1,\\ldots \\}$ \n",
    "$P_X(x)=P(X=x)=$ | $\\left\\{\\begin{array}{ll}  \\frac{\\lambda^x}{x!}e^{-\\lambda} & \\mbox{ si } x=0,1,\\ldots\\\\ 0  & \\mbox{ en otro caso.}\\end{array}\\right.$\n",
    "$F_X(x)=P(X\\leq X)=$ |  $\\begin{array}{l}\\left\\{\\begin{array}{ll} 0 & \\mbox{si } x<0\\\\\\displaystyle\\sum_{i=0}^{k} P(X=i)= \\displaystyle\\sum_{i=0}^{k} \\frac{\\lambda^i}{i!}\\cdot e^{-\\lambda} & \\mbox{si  }\\left\\{\\begin{array}{l}k\\leq x< k+1\\\\k=0,1,2,\\ldots\\end{array}\\right.\\end{array}\\right.\n",
    "\\\\\\mbox{Calcular la suma o utilizar funciones de R o python.}\n",
    "\\end{array}$     \n",
    "$E(X)=\\lambda$ | $Var(X)=\\lambda$\n",
    "\n",
    "\n",
    "## Resumen proceso   Poisson  $X_t\\equiv Po(\\lambda\\cdot t)$\n",
    "\n",
    "$X_t$  $Po(\\lambda\\cdot t)$ |  $\\lambda$ promedio por u.t. \n",
    "-------:|:-------\n",
    "$D_X=$|  $\\{0,1,\\ldots \\}$ \n",
    "$P_X(x)=P(X=x)=$ | $\\left\\{\\begin{array}{ll}  \\frac{(\\lambda\\cdot t)^x}{x!}e^{-\\lambda\\cdot t} & \\mbox{ si } x=0,1,\\ldots\\\\ 0  & \\mbox{ en otro caso.}\\end{array}\\right.$\n",
    "$F_X(x)=P(X\\leq X)=$ |  $\\begin{array}{l}\\left\\{\\begin{array}{ll} 0 & \\mbox{si } x<0\\\\\\displaystyle\\sum_{i=0}^{k} P(X=i)= \\displaystyle\\sum_{i=0}^{k} \\frac{(\\lambda\\cdot t)^i}{i!}\\cdot e^{-\\lambda\\cdot t} & \\mbox{si  }\\left\\{\\begin{array}{l}k\\leq x< k+1\\\\k=0,1,2,\\ldots\\end{array}\\right.\\end{array}\\right.\n",
    "\\\\\\mbox{Calcular la suma o utilizar funciones de R o python.}\n",
    "\\end{array}$     \n",
    "$E(X)=\\lambda\\cdot t$ | $Var(X)=\\lambda\\cdot t$\n",
    "\n",
    "# Aproximación de la distribución binomial por la Poisson\n",
    "\n",
    "Bajo el punto de vista anterior y si $p$ es pequeño y $n$ suficientemente grande  la distribución  $B(n,p)$ se aproxima a una $Po(\\lambda=n\\cdot p)$.\n",
    "\n",
    "Existen distintos criterios (ninguno perfecto) de cuando la aproximación es buena.\n",
    "\n",
    "Por ejemplo  si \n",
    "\n",
    "$$n\\geq 20\\mbox{ o mejor }n\\geq 30, n\\cdot p < 10 \\mbox{ y } p\\leq 0.05,$$\n",
    "\n",
    "\n",
    "la aproximación  de una $B(n,p)$ por una $Po(n\\cdot p)$ es buena. Sobre todo para los valores cercanos a $E(X)=\\lambda$.\n",
    "\n",
    "\n",
    "    \n",
    "\n",
    "## Calculos con R.\n",
    "\n",
    "Consideremos por ejemplo una v.a. $X$ con distribución $Po(\\lambda=4)$. Calculemos $P_X(0)=P(X=0), P_X(1)=P(X=1)$ con `R`:\n"
   ]
  },
  {
   "cell_type": "code",
   "execution_count": 3,
   "metadata": {},
   "outputs": [
    {
     "data": {
      "text/html": [
       "0.0183156388887342"
      ],
      "text/latex": [
       "0.0183156388887342"
      ],
      "text/markdown": [
       "0.0183156388887342"
      ],
      "text/plain": [
       "[1] 0.01831564"
      ]
     },
     "metadata": {},
     "output_type": "display_data"
    },
    {
     "data": {
      "text/html": [
       "0.0732625555549367"
      ],
      "text/latex": [
       "0.0732625555549367"
      ],
      "text/markdown": [
       "0.0732625555549367"
      ],
      "text/plain": [
       "[1] 0.07326256"
      ]
     },
     "metadata": {},
     "output_type": "display_data"
    }
   ],
   "source": [
    "dpois(0,lambda = 4)\n",
    "dpois(1,lambda = 4)"
   ]
  },
  {
   "cell_type": "markdown",
   "metadata": {},
   "source": [
    "Si quisiéramos hallar la función de distribución en los mismos valores anteriores, \n",
    "$F_X(0)=P(X\\leq 0), F_X(1)=P(X\\leq 1)$, haríamos lo siguiente:"
   ]
  },
  {
   "cell_type": "code",
   "execution_count": 4,
   "metadata": {},
   "outputs": [
    {
     "data": {
      "text/html": [
       "0.0183156388887342"
      ],
      "text/latex": [
       "0.0183156388887342"
      ],
      "text/markdown": [
       "0.0183156388887342"
      ],
      "text/plain": [
       "[1] 0.01831564"
      ]
     },
     "metadata": {},
     "output_type": "display_data"
    },
    {
     "data": {
      "text/html": [
       "0.0915781944436709"
      ],
      "text/latex": [
       "0.0915781944436709"
      ],
      "text/markdown": [
       "0.0915781944436709"
      ],
      "text/plain": [
       "[1] 0.09157819"
      ]
     },
     "metadata": {},
     "output_type": "display_data"
    },
    {
     "data": {
      "text/html": [
       "0.0915781944436709"
      ],
      "text/latex": [
       "0.0915781944436709"
      ],
      "text/markdown": [
       "0.0915781944436709"
      ],
      "text/plain": [
       "[1] 0.09157819"
      ]
     },
     "metadata": {},
     "output_type": "display_data"
    }
   ],
   "source": [
    "ppois(0,lambda = 4)\n",
    "ppois(1,lambda = 4)\n",
    "dpois(0,lambda = 4)+dpois(1,lambda = 4) "
   ]
  },
  {
   "cell_type": "markdown",
   "metadata": {},
   "source": [
    "\n",
    "A continuación, comprobemos que $F_X(10)=\\sum\\limits_{x=0}^{10} P_X(x)$:"
   ]
  },
  {
   "cell_type": "code",
   "execution_count": 5,
   "metadata": {},
   "outputs": [
    {
     "data": {
      "text/html": [
       "<style>\n",
       ".list-inline {list-style: none; margin:0; padding: 0}\n",
       ".list-inline>li {display: inline-block}\n",
       ".list-inline>li:not(:last-child)::after {content: \"\\00b7\"; padding: 0 .5ex}\n",
       "</style>\n",
       "<ol class=list-inline><li>0.0183156388887342</li><li>0.0732625555549367</li><li>0.146525111109873</li><li>0.195366814813165</li><li>0.195366814813165</li><li>0.156293451850532</li><li>0.104195634567021</li><li>0.0595403626097264</li><li>0.0297701813048632</li><li>0.0132311916910503</li><li>0.00529247667642012</li></ol>\n"
      ],
      "text/latex": [
       "\\begin{enumerate*}\n",
       "\\item 0.0183156388887342\n",
       "\\item 0.0732625555549367\n",
       "\\item 0.146525111109873\n",
       "\\item 0.195366814813165\n",
       "\\item 0.195366814813165\n",
       "\\item 0.156293451850532\n",
       "\\item 0.104195634567021\n",
       "\\item 0.0595403626097264\n",
       "\\item 0.0297701813048632\n",
       "\\item 0.0132311916910503\n",
       "\\item 0.00529247667642012\n",
       "\\end{enumerate*}\n"
      ],
      "text/markdown": [
       "1. 0.0183156388887342\n",
       "2. 0.0732625555549367\n",
       "3. 0.146525111109873\n",
       "4. 0.195366814813165\n",
       "5. 0.195366814813165\n",
       "6. 0.156293451850532\n",
       "7. 0.104195634567021\n",
       "8. 0.0595403626097264\n",
       "9. 0.0297701813048632\n",
       "10. 0.0132311916910503\n",
       "11. 0.00529247667642012\n",
       "\n",
       "\n"
      ],
      "text/plain": [
       " [1] 0.018315639 0.073262556 0.146525111 0.195366815 0.195366815 0.156293452\n",
       " [7] 0.104195635 0.059540363 0.029770181 0.013231192 0.005292477"
      ]
     },
     "metadata": {},
     "output_type": "display_data"
    },
    {
     "data": {
      "text/html": [
       "0.997160233879486"
      ],
      "text/latex": [
       "0.997160233879486"
      ],
      "text/markdown": [
       "0.997160233879486"
      ],
      "text/plain": [
       "[1] 0.9971602"
      ]
     },
     "metadata": {},
     "output_type": "display_data"
    },
    {
     "data": {
      "text/html": [
       "0.997160233879486"
      ],
      "text/latex": [
       "0.997160233879486"
      ],
      "text/markdown": [
       "0.997160233879486"
      ],
      "text/plain": [
       "[1] 0.9971602"
      ]
     },
     "metadata": {},
     "output_type": "display_data"
    }
   ],
   "source": [
    "dpois(0:10,4)\n",
    "sum(dpois(0:10,4))\n",
    "ppois(10,4)"
   ]
  },
  {
   "cell_type": "markdown",
   "metadata": {},
   "source": [
    "Si quisiéramos generar una secuencia de $100$ observaciones para una distribución de Poisson de parámetro $\\lambda=4$, $Po(3)$, tendríamos que hacer:\n"
   ]
  },
  {
   "cell_type": "code",
   "execution_count": 7,
   "metadata": {},
   "outputs": [
    {
     "data": {
      "text/html": [
       "<style>\n",
       ".list-inline {list-style: none; margin:0; padding: 0}\n",
       ".list-inline>li {display: inline-block}\n",
       ".list-inline>li:not(:last-child)::after {content: \"\\00b7\"; padding: 0 .5ex}\n",
       "</style>\n",
       "<ol class=list-inline><li>1</li><li>2</li><li>2</li><li>3</li><li>2</li><li>2</li><li>2</li><li>3</li><li>5</li><li>4</li><li>5</li><li>3</li><li>3</li><li>1</li><li>5</li><li>3</li><li>6</li><li>7</li><li>7</li><li>5</li><li>5</li><li>1</li><li>4</li><li>4</li><li>4</li><li>1</li><li>2</li><li>6</li><li>3</li><li>2</li><li>5</li><li>6</li><li>1</li><li>2</li><li>4</li><li>2</li><li>5</li><li>6</li><li>3</li><li>5</li><li>0</li><li>3</li><li>6</li><li>5</li><li>4</li><li>3</li><li>11</li><li>3</li><li>2</li><li>2</li><li>4</li><li>1</li><li>1</li><li>4</li><li>3</li><li>7</li><li>4</li><li>2</li><li>4</li><li>1</li><li>4</li><li>2</li><li>8</li><li>4</li><li>4</li><li>0</li><li>5</li><li>4</li><li>8</li><li>3</li><li>4</li><li>5</li><li>3</li><li>7</li><li>2</li><li>3</li><li>4</li><li>1</li><li>2</li><li>6</li><li>2</li><li>2</li><li>2</li><li>5</li><li>5</li><li>2</li><li>3</li><li>5</li><li>5</li><li>2</li><li>2</li><li>4</li><li>4</li><li>6</li><li>3</li><li>6</li><li>3</li><li>2</li><li>7</li><li>2</li></ol>\n"
      ],
      "text/latex": [
       "\\begin{enumerate*}\n",
       "\\item 1\n",
       "\\item 2\n",
       "\\item 2\n",
       "\\item 3\n",
       "\\item 2\n",
       "\\item 2\n",
       "\\item 2\n",
       "\\item 3\n",
       "\\item 5\n",
       "\\item 4\n",
       "\\item 5\n",
       "\\item 3\n",
       "\\item 3\n",
       "\\item 1\n",
       "\\item 5\n",
       "\\item 3\n",
       "\\item 6\n",
       "\\item 7\n",
       "\\item 7\n",
       "\\item 5\n",
       "\\item 5\n",
       "\\item 1\n",
       "\\item 4\n",
       "\\item 4\n",
       "\\item 4\n",
       "\\item 1\n",
       "\\item 2\n",
       "\\item 6\n",
       "\\item 3\n",
       "\\item 2\n",
       "\\item 5\n",
       "\\item 6\n",
       "\\item 1\n",
       "\\item 2\n",
       "\\item 4\n",
       "\\item 2\n",
       "\\item 5\n",
       "\\item 6\n",
       "\\item 3\n",
       "\\item 5\n",
       "\\item 0\n",
       "\\item 3\n",
       "\\item 6\n",
       "\\item 5\n",
       "\\item 4\n",
       "\\item 3\n",
       "\\item 11\n",
       "\\item 3\n",
       "\\item 2\n",
       "\\item 2\n",
       "\\item 4\n",
       "\\item 1\n",
       "\\item 1\n",
       "\\item 4\n",
       "\\item 3\n",
       "\\item 7\n",
       "\\item 4\n",
       "\\item 2\n",
       "\\item 4\n",
       "\\item 1\n",
       "\\item 4\n",
       "\\item 2\n",
       "\\item 8\n",
       "\\item 4\n",
       "\\item 4\n",
       "\\item 0\n",
       "\\item 5\n",
       "\\item 4\n",
       "\\item 8\n",
       "\\item 3\n",
       "\\item 4\n",
       "\\item 5\n",
       "\\item 3\n",
       "\\item 7\n",
       "\\item 2\n",
       "\\item 3\n",
       "\\item 4\n",
       "\\item 1\n",
       "\\item 2\n",
       "\\item 6\n",
       "\\item 2\n",
       "\\item 2\n",
       "\\item 2\n",
       "\\item 5\n",
       "\\item 5\n",
       "\\item 2\n",
       "\\item 3\n",
       "\\item 5\n",
       "\\item 5\n",
       "\\item 2\n",
       "\\item 2\n",
       "\\item 4\n",
       "\\item 4\n",
       "\\item 6\n",
       "\\item 3\n",
       "\\item 6\n",
       "\\item 3\n",
       "\\item 2\n",
       "\\item 7\n",
       "\\item 2\n",
       "\\end{enumerate*}\n"
      ],
      "text/markdown": [
       "1. 1\n",
       "2. 2\n",
       "3. 2\n",
       "4. 3\n",
       "5. 2\n",
       "6. 2\n",
       "7. 2\n",
       "8. 3\n",
       "9. 5\n",
       "10. 4\n",
       "11. 5\n",
       "12. 3\n",
       "13. 3\n",
       "14. 1\n",
       "15. 5\n",
       "16. 3\n",
       "17. 6\n",
       "18. 7\n",
       "19. 7\n",
       "20. 5\n",
       "21. 5\n",
       "22. 1\n",
       "23. 4\n",
       "24. 4\n",
       "25. 4\n",
       "26. 1\n",
       "27. 2\n",
       "28. 6\n",
       "29. 3\n",
       "30. 2\n",
       "31. 5\n",
       "32. 6\n",
       "33. 1\n",
       "34. 2\n",
       "35. 4\n",
       "36. 2\n",
       "37. 5\n",
       "38. 6\n",
       "39. 3\n",
       "40. 5\n",
       "41. 0\n",
       "42. 3\n",
       "43. 6\n",
       "44. 5\n",
       "45. 4\n",
       "46. 3\n",
       "47. 11\n",
       "48. 3\n",
       "49. 2\n",
       "50. 2\n",
       "51. 4\n",
       "52. 1\n",
       "53. 1\n",
       "54. 4\n",
       "55. 3\n",
       "56. 7\n",
       "57. 4\n",
       "58. 2\n",
       "59. 4\n",
       "60. 1\n",
       "61. 4\n",
       "62. 2\n",
       "63. 8\n",
       "64. 4\n",
       "65. 4\n",
       "66. 0\n",
       "67. 5\n",
       "68. 4\n",
       "69. 8\n",
       "70. 3\n",
       "71. 4\n",
       "72. 5\n",
       "73. 3\n",
       "74. 7\n",
       "75. 2\n",
       "76. 3\n",
       "77. 4\n",
       "78. 1\n",
       "79. 2\n",
       "80. 6\n",
       "81. 2\n",
       "82. 2\n",
       "83. 2\n",
       "84. 5\n",
       "85. 5\n",
       "86. 2\n",
       "87. 3\n",
       "88. 5\n",
       "89. 5\n",
       "90. 2\n",
       "91. 2\n",
       "92. 4\n",
       "93. 4\n",
       "94. 6\n",
       "95. 3\n",
       "96. 6\n",
       "97. 3\n",
       "98. 2\n",
       "99. 7\n",
       "100. 2\n",
       "\n",
       "\n"
      ],
      "text/plain": [
       "  [1]  1  2  2  3  2  2  2  3  5  4  5  3  3  1  5  3  6  7  7  5  5  1  4  4  4\n",
       " [26]  1  2  6  3  2  5  6  1  2  4  2  5  6  3  5  0  3  6  5  4  3 11  3  2  2\n",
       " [51]  4  1  1  4  3  7  4  2  4  1  4  2  8  4  4  0  5  4  8  3  4  5  3  7  2\n",
       " [76]  3  4  1  2  6  2  2  2  5  5  2  3  5  5  2  2  4  4  6  3  6  3  2  7  2"
      ]
     },
     "metadata": {},
     "output_type": "display_data"
    }
   ],
   "source": [
    "rpois(n=100,lambda = 4)"
   ]
  },
  {
   "cell_type": "markdown",
   "metadata": {},
   "source": [
    "## Gráficos con ``R``\n"
   ]
  },
  {
   "cell_type": "code",
   "execution_count": 12,
   "metadata": {},
   "outputs": [
    {
     "data": {
      "image/png": "[encoded data removed]",
      "text/plain": [
       "Plot with title “Función de distribución \n",
       " Po(lambda=5)”"
      ]
     },
     "metadata": {},
     "output_type": "display_data",
     "source": "R display func"
    }
   ],
   "source": [
    "lambda=5\n",
    "par(mfrow=c(2,1))\n",
    "n=qpois(0.99,lambda=lambda)\n",
    "aux=rep(0,(n+1)*2)\n",
    "aux[seq(2,(n+1)*2,2)]=dpois(c(0:n),lambda=lambda)\n",
    "ymax=max(ppois(0:n,lambda=lambda))\n",
    "plot(x=c(0:n),y=dpois(c(0:n),lambda=lambda),\n",
    "     ylim=c(0,ymax),xlim=c(-1,n+1),xlab=\"x\",ylab=\"Función de probabilidad\",\n",
    "     main=paste0(c(\"Función de probabilidad\\n  Po(lambda=\",lambda,\")\"),collapse = \"\"))\n",
    "lines(x=rep(0:n,each=2),y=aux,pch=21, type = \"h\", lty = 2,col=\"red\")\n",
    "curve(ppois(x,lambda=lambda),\n",
    "      xlim=c(-1,n+1),col=\"blue\",ylab=\"Función de Distribución\",\n",
    "      main=paste0(c(\"Función de distribución \\n Po(lambda=\",lambda,\")\"),collapse = \"\"))\n",
    "par(mfrow=c(1,1))"
   ]
  }
 ],
 "metadata": {
  "kernelspec": {
   "display_name": "R",
   "language": "R",
   "name": "conda-env-r-r"
  },
  "language_info": {
   "codemirror_mode": "r",
   "file_extension": ".r",
   "mimetype": "text/x-r-source",
   "name": "R",
   "pygments_lexer": "r",
   "version": "3.5.1"
  }
 },
 "nbformat": 4,
 "nbformat_minor": 4
}
