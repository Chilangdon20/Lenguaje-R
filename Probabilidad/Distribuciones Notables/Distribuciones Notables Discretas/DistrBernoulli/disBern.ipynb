{
 "cells": [
  {
   "cell_type": "markdown",
   "metadata": {},
   "source": [
    "# Distribución Bernoulli \n",
    "\n",
    "## Distribución Bernoulli\n",
    "\n",
    "\n",
    "<l class=\"definition\"> Distribución Bernoulli </l>\n",
    "\n",
    "* Consideremos un experimento con dos resultados posibles éxito (E) y\n",
    "fracaso (F). El espacio de sucesos será $\\Omega=\\{E,F\\}$.\n",
    "* Supongamos que la probabilidad de éxito es  $P(E)=p$,  y naturalmente $P(F)=1-p=q$ con $0<p<1$.\n",
    "* Consideremos la  aplicación \n",
    "\n",
    "$$\n",
    "X:\\Omega=\\{E,F\\}\\to \\mathbb{R}\n",
    "$$\n",
    "\n",
    "definida por\n",
    "\n",
    "$$\n",
    "X(E)=1\\mbox{, }X(F)=0.\n",
    "$$\n",
    "\n",
    "\n",
    "## Distribución Bernoulli\n",
    "\n",
    "Su  función de probabilidad es\n",
    "\n",
    "\n",
    "$$\n",
    "P_{X}(x)=\n",
    "\\left\\{\n",
    "\\begin{array}{ll} 1-p=q & \\mbox{si } x=0\\\\\n",
    "p & \\mbox{si } x=1\\\\\n",
    "0 & \\mbox{en cualquier otro caso}\n",
    "\\end{array}\n",
    "\\right..\n",
    "$$\n",
    "\n",
    "Su función de distribución es \n",
    "\n",
    "$$\n",
    "F_{X}(x)=P(X\\leq x)=\n",
    "\\left\\{\n",
    "\\begin{array}{ll} \n",
    "0 & \\mbox{si } x<0\\\\\n",
    "1-p=q & \\mbox{si } 0\\leq x <1\\\\\n",
    "1 & \\mbox{si } 1\\leq x \\\\\n",
    "\\end{array}\n",
    "\\right..\n",
    "$$\n",
    "\n",
    "\n",
    "## Distribución Bernoulli\n",
    "\n",
    "* Bajo estas condiciones diremos que $X$  **es una v.a. Bernoulli** o que  sigue una ley de  **distribución de probabilidad  Bernoulli** de parámetro $p$.\n",
    "* Lo denotaremos por\n",
    "$$X\\equiv Ber(p)\\mbox{ o también } X\\equiv B(1,p).$$\n",
    "* A este tipo de  experimentos (éxito/fracaso)se les denomina experimentos Bernoulli.\n",
    "* Fue su descubridor un científico suizo  [Jacob Bernoulli](https://es.wikipedia.org/wiki/Jakob_Bernoulli),  uno más de la de la conocida [familia de científicos suizos Bernoulli](https://es.wikipedia.org/wiki/Familia_Bernoulli)\n",
    "\n",
    "## Esperanza de una v.a. $X$  $Ber(p)$\n",
    "\n",
    "Su **valor esperado** es \n",
    "\n",
    "$$E(X)=\\displaystyle\\sum_{x=0}^1 x\\cdot P(X=x)= 0\\cdot(1-p)+1\\cdot p=p.$$\n",
    "\n",
    "\n",
    "\n",
    "Calculemos también $E(X^2)$\n",
    "\n",
    "$$E(X^2)=\\displaystyle\\sum_{x=0}^1 x^2\\cdot P(X=x)= 0^2\\cdot(1-p)+1^2\\cdot p=p.$$\n",
    "\n",
    "## Varianza de una v.a. $X$  $Ber(p)$\n",
    "\n",
    "\n",
    "Su  **varianza** es \n",
    "\n",
    "$$Var(X)=E(X^2)-\\left(E(X)\\right)^2=p-p^2=p\\cdot (1-p)=p\\cdot q.$$\n",
    "\n",
    "\n",
    "Su desviación típica es \n",
    "\n",
    "$$\n",
    "\\sqrt{Var(X)}=\\sqrt{p \\cdot (1-p)}.\n",
    "$$\n",
    "\n",
    "## Resumen v.a con distribución Bernoulli\n",
    "\n",
    "\n",
    "$X$  Bernoulli | $Ber(p)$\n",
    "----------:|:--------\n",
    "$D_X=$ | $\\{0,1\\}$\n",
    "$P_X(x)=P(X=x)=$ |  $\\left\\{\\begin{array}{ll} q & \\mbox{si } x=0\\\\ p & \\mbox{si } x=1\\\\0 & \\mbox{en otro caso}\\end{array}\\right.$ \n",
    "$F_X(x)=P(X\\leq X)=$ | $\\left\\{\\begin{array}{ll} 0 & \\mbox{ si } x<0\\\\q & \\mbox{ si } 0\\leq x<1\\\\1 & \\mbox{ si } 1\\leq x \\end{array}\\right.$\n",
    "$E(X)=p$ | $Var(X)=p\\cdot q$\n",
    "\n",
    "\n",
    "\n",
    "# Cálculos básicos $Ber(p=0.25)$ en `R`.\n",
    "\n",
    "\n",
    "  "
   ]
  },
  {
   "cell_type": "code",
   "execution_count": 2,
   "metadata": {},
   "outputs": [
    {
     "data": {
      "text/html": [
       "0.75"
      ],
      "text/latex": [
       "0.75"
      ],
      "text/markdown": [
       "0.75"
      ],
      "text/plain": [
       "[1] 0.75"
      ]
     },
     "metadata": {},
     "output_type": "display_data"
    },
    {
     "data": {
      "text/html": [
       "0.35"
      ],
      "text/latex": [
       "0.35"
      ],
      "text/markdown": [
       "0.35"
      ],
      "text/plain": [
       "[1] 0.35"
      ]
     },
     "metadata": {},
     "output_type": "display_data"
    },
    {
     "data": {
      "text/html": [
       "<style>\n",
       ".list-inline {list-style: none; margin:0; padding: 0}\n",
       ".list-inline>li {display: inline-block}\n",
       ".list-inline>li:not(:last-child)::after {content: \"\\00b7\"; padding: 0 .5ex}\n",
       "</style>\n",
       "<ol class=list-inline><li>1</li><li>1</li><li>0</li><li>1</li><li>0</li><li>0</li><li>0</li><li>1</li><li>0</li><li>0</li><li>0</li><li>0</li><li>1</li><li>0</li><li>1</li><li>0</li><li>0</li><li>0</li><li>0</li><li>1</li></ol>\n"
      ],
      "text/latex": [
       "\\begin{enumerate*}\n",
       "\\item 1\n",
       "\\item 1\n",
       "\\item 0\n",
       "\\item 1\n",
       "\\item 0\n",
       "\\item 0\n",
       "\\item 0\n",
       "\\item 1\n",
       "\\item 0\n",
       "\\item 0\n",
       "\\item 0\n",
       "\\item 0\n",
       "\\item 1\n",
       "\\item 0\n",
       "\\item 1\n",
       "\\item 0\n",
       "\\item 0\n",
       "\\item 0\n",
       "\\item 0\n",
       "\\item 1\n",
       "\\end{enumerate*}\n"
      ],
      "text/markdown": [
       "1. 1\n",
       "2. 1\n",
       "3. 0\n",
       "4. 1\n",
       "5. 0\n",
       "6. 0\n",
       "7. 0\n",
       "8. 1\n",
       "9. 0\n",
       "10. 0\n",
       "11. 0\n",
       "12. 0\n",
       "13. 1\n",
       "14. 0\n",
       "15. 1\n",
       "16. 0\n",
       "17. 0\n",
       "18. 0\n",
       "19. 0\n",
       "20. 1\n",
       "\n",
       "\n"
      ],
      "text/plain": [
       " [1] 1 1 0 1 0 0 0 1 0 0 0 0 1 0 1 0 0 0 0 1"
      ]
     },
     "metadata": {},
     "output_type": "display_data"
    }
   ],
   "source": [
    "\n",
    "dbinom(0,size=1,prob=0.25)\n",
    "\n",
    "dbinom(1,size=1,prob=0.35)\n",
    "\n",
    "rbinom(n=20,size = 1,prob=0.50)\n"
   ]
  },
  {
   "cell_type": "markdown",
   "metadata": {},
   "source": [
    "El siguiente código grafica la función de probabilidad y la de distribución de una  $Ber(p=0.25)$"
   ]
  },
  {
   "cell_type": "code",
   "execution_count": 3,
   "metadata": {},
   "outputs": [
    {
     "data": {
      "image/png": "[encoded data removed]",
      "text/plain": [
       "Plot with title “Función de distribución\n",
       " Ber(p=0.25)”"
      ]
     },
     "metadata": {},
     "output_type": "display_data",
     "source": "R display func"
    }
   ],
   "source": [
    "par(mfrow=c(1,2))\n",
    "plot(x=c(0,1),y=dbinom(c(0,1),size=1,prob=0.25),\n",
    "     ylim=c(0,1),xlim=c(-1,2),xlab=\"Distribucion\",ylab=\"Probabilidad\",\n",
    "     main=\"Función de probabilidad\\n Ber(p=0.25)\",)\n",
    "lines(x=c(0,0,1,1),y=c(0,0.75,0,0.25), type = \"h\", lty = 2,col=\"red\")\n",
    "#Segundo grafico\n",
    "curve(pbinom(x,size=1,prob=0.25),\n",
    "      xlim=c(-1,2),col=\"blue\",ylab = \"Probabilidad\",xlab=\"Distribucion\",\n",
    "      main=\"Función de distribución\\n Ber(p=0.25)\")\n",
    "par(mfrow=c(1,1))"
   ]
  },
  {
   "cell_type": "markdown",
   "metadata": {},
   "source": [
    "[Acerca del Autor](https://www.linkedin.com/in/fernando-vázquez/ \"Linkedin\")"
   ]
  }
 ],
 "metadata": {
  "kernelspec": {
   "display_name": "R",
   "language": "R",
   "name": "conda-env-r-r"
  },
  "language_info": {
   "codemirror_mode": "r",
   "file_extension": ".r",
   "mimetype": "text/x-r-source",
   "name": "R",
   "pygments_lexer": "r",
   "version": "3.5.1"
  }
 },
 "nbformat": 4,
 "nbformat_minor": 4
}
