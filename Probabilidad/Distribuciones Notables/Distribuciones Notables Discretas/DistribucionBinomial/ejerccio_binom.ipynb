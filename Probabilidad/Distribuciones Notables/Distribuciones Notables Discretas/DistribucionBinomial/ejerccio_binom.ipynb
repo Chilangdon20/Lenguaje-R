{
 "cells": [
  {
   "cell_type": "markdown",
   "metadata": {},
   "source": [
    "# Ejercicio - 01\n",
    "\n",
    "Tenemos una urna con 100 bolas de las cuales 40 son de color rojo y 60 son de color blanco.Supongamos que extraemos una bola al azar, anotamos su color y la devolvemos a la urna(**reposición**) y repetimos este proceso **n=10** reponiendo en cada ocasión la bola extraida.\n",
    "\n",
    "## Importante:\n",
    "\n",
    "Consideremos la variable aleatoria **X** como el numero de bolas rojas extraidas (con reposición) en 10 repeticiones del mismo experimento de Bernoulli.\n",
    "\n",
    "Bajo estas condiciones repetimos $n=10$ veces el mismo experimento de Bernouilli con probabilidad de éxito (sacar bola roja)\n",
    "\n",
    "$$P(Roja)=P(Éxito)=p=\\frac{40}{100}=0.4.$$\n",
    "\n",
    "Así que la variable $X$ que es el número de bolas rojas extraídas de la urna (con reposición) en $n=10$ ocasiones sigue una ley binomial  $B(n=10,p=0.4).$\n",
    "\n",
    "Nos preguntamos:\n",
    "\n",
    "1. ¿Cuál es la probabilidad de que saquemos exactamente $4$ bolas rojas?\n",
    "2. ¿Cuál es la probabilidad de que saquemos al menos  $4$ bolas rojas?\n",
    "3. ¿Cuál es la probabilidad de que saquemos  menos de $3$ bolas rojas?\n",
    "4. ¿Cuál es el valor esperado del número de bolas rojas?\n",
    "5. ¿Cuál es la desviación típica  del número de bolas rojas?\n",
    "\n",
    "\n",
    "**Solución 1**. ¿Cuál es la probabilidad de que saquemos exactamente $4$ rojas?\n",
    "\n",
    "Utilizando la función de probabilidad, tenemos que:\n",
    "\\begin{eqnarray*}\n",
    "P(X=4)&=&{10\\choose 4}\\cdot 0.4^4\\cdot (1-0.4)^{10-4}\n",
    "= \\frac{10!}{(10-4)!\\cdot 4!}\\cdot 0.4^4\\cdot 0.6^6\\\\\n",
    "&=& \\frac{7\\cdot 8\\cdot 9\\cdot 10}{1\\cdot 2\\cdot 3\\cdot 4}\\cdot 0.4^4\\cdot 0.6^6=`r round(choose(10,4)* 0.4^4*0.6^6,7)`.\n",
    "\\end{eqnarray*}\n",
    "\n",
    "\n",
    "Con R"
   ]
  },
  {
   "cell_type": "code",
   "execution_count": 5,
   "metadata": {},
   "outputs": [
    {
     "name": "stdout",
     "output_type": "stream",
     "text": [
      "[1] 0.2508227\n"
     ]
    }
   ],
   "source": [
    "valor <- dbinom(4,size=10,prob=0.4)\n",
    "print(valor)"
   ]
  },
  {
   "cell_type": "markdown",
   "metadata": {},
   "source": [
    "## Solución 2:\n",
    "\n",
    "¿ Cuál es la probabilidad de sacar **al menos** 4 bolas rojas?\n",
    "\n",
    "Expresion:\n",
    "\n",
    "$P(X \\geq  4)=1-P(X<4)=1-P(X\\leq 3):$\n",
    "\n",
    "$$\n",
    "\\begin{eqnarray*}\n",
    "P(x\\leq 3)&=& P(X=0)+P(X=1)+P(X=2)+P(X=3)\\\\\n",
    "&=& \n",
    " {10\\choose 0}\\cdot 0.4^0\\cdot (1-0.4)^{10-0}+ {10\\choose 1}\\cdot 0.4^1\\cdot (1-0.4)^{10-1}\\\\\n",
    "&+&{10\\choose 2}\\cdot 0.4^2\\cdot (1-0.4)^{10-2}+ {10\\choose 3}\\cdot 0.4^3\\cdot (1-0.4)^{10-3}\\\\\n",
    "&=&`r round(pbinom(3,10,0.4),7)`.\n",
    "\\end{eqnarray*}\n",
    "$$"
   ]
  },
  {
   "cell_type": "code",
   "execution_count": 6,
   "metadata": {},
   "outputs": [
    {
     "data": {
      "text/html": [
       "0.3822806016"
      ],
      "text/latex": [
       "0.3822806016"
      ],
      "text/markdown": [
       "0.3822806016"
      ],
      "text/plain": [
       "[1] 0.3822806"
      ]
     },
     "metadata": {},
     "output_type": "display_data"
    }
   ],
   "source": [
    "pbinom(3,10,0.4)"
   ]
  },
  {
   "cell_type": "markdown",
   "metadata": {},
   "source": [
    "**Solución 3**.  ¿Cuál es la probabilidad de que saquemos  menos  de $3$ bolas rojas?\n",
    "\n",
    "\\begin{eqnarray*}\n",
    "P(X< 3)&=& P(X\\leq 2)=  P(X=0)+P(X=1)+P(X=2)\\\\\n",
    "&=& \n",
    "{10\\choose 0}\\cdot 0.4^0\\cdot (1-0.4)^{10-0}+ {10\\choose 1}\\cdot 0.4^1\\cdot (1-0.4)^{10-1}\\\\\n",
    "&&+\n",
    "{10\\choose 2}\\cdot 0.4^2\\cdot (1-0.4)^{10-2}\\\\\n",
    "&=&`r round(pbinom(2,10,0.4),7)`.\n",
    "\\end{eqnarray*}\n"
   ]
  },
  {
   "cell_type": "code",
   "execution_count": 7,
   "metadata": {},
   "outputs": [
    {
     "data": {
      "text/html": [
       "0.1672897536"
      ],
      "text/latex": [
       "0.1672897536"
      ],
      "text/markdown": [
       "0.1672897536"
      ],
      "text/plain": [
       "[1] 0.1672898"
      ]
     },
     "metadata": {},
     "output_type": "display_data"
    },
    {
     "data": {
      "text/html": [
       "0.1672897536"
      ],
      "text/latex": [
       "0.1672897536"
      ],
      "text/markdown": [
       "0.1672897536"
      ],
      "text/plain": [
       "[1] 0.1672898"
      ]
     },
     "metadata": {},
     "output_type": "display_data"
    }
   ],
   "source": [
    "dbinom(0,10,0.4)+dbinom(1,10,0.4)+dbinom(2,10,0.4)\n",
    "pbinom(2,10,0.4)"
   ]
  },
  {
   "cell_type": "markdown",
   "metadata": {},
   "source": [
    "\n",
    "**Solución 4**. ¿Cuál es el valor esperado del número de bolas rojas?\n",
    "\n",
    "Como  $X$ es una $B(n=10,p=0.4)$ sabemos que \n",
    "\n",
    "$$E(X)=n\\cdot p = 10\\cdot 0.4=`r 10*0.4`.$$\n",
    "\n",
    "Aunque en python tenemos la función `stats` que nos lo calcula directamente:"
   ]
  },
  {
   "cell_type": "code",
   "execution_count": 1,
   "metadata": {},
   "outputs": [
    {
     "ename": "NameError",
     "evalue": "name 'binom' is not defined",
     "output_type": "error",
     "traceback": [
      "\u001b[0;31m---------------------------------------------------------------------------\u001b[0m",
      "\u001b[0;31mNameError\u001b[0m                                 Traceback (most recent call last)",
      "\u001b[0;32m<ipython-input-1-06b8c06a9fc0>\u001b[0m in \u001b[0;36m<module>\u001b[0;34m\u001b[0m\n\u001b[0;32m----> 1\u001b[0;31m \u001b[0mprint\u001b[0m\u001b[0;34m(\u001b[0m\u001b[0;34m\"E(X) = {m}\"\u001b[0m\u001b[0;34m.\u001b[0m\u001b[0mformat\u001b[0m\u001b[0;34m(\u001b[0m\u001b[0mm\u001b[0m\u001b[0;34m=\u001b[0m\u001b[0mbinom\u001b[0m\u001b[0;34m.\u001b[0m\u001b[0mstats\u001b[0m\u001b[0;34m(\u001b[0m\u001b[0mn\u001b[0m \u001b[0;34m=\u001b[0m \u001b[0;36m10\u001b[0m\u001b[0;34m,\u001b[0m \u001b[0mp\u001b[0m \u001b[0;34m=\u001b[0m \u001b[0;36m0.4\u001b[0m\u001b[0;34m,\u001b[0m \u001b[0mmoments\u001b[0m\u001b[0;34m=\u001b[0m\u001b[0;34m'm'\u001b[0m\u001b[0;34m)\u001b[0m\u001b[0;34m)\u001b[0m\u001b[0;34m)\u001b[0m\u001b[0;34m\u001b[0m\u001b[0;34m\u001b[0m\u001b[0m\n\u001b[0m",
      "\u001b[0;31mNameError\u001b[0m: name 'binom' is not defined"
     ]
    }
   ],
   "source": [
    "print(\"E(X) = {m}\".format(m=binom.stats(n = 10, p = 0.4, moments='m')))"
   ]
  },
  {
   "cell_type": "markdown",
   "metadata": {},
   "source": [
    "**Solución 5**. ¿Cuál es la desviación típica  del número de bolas rojas?\n",
    "\n",
    "\n",
    "La varianza es:\n",
    "$$\n",
    "Var(X)=n\\cdot p \\cdot(1-p)=10\\cdot 0.4\\cdot 0.6=`r 10*0.4*0.6`.\n",
    "$$\n",
    "\n",
    "\n",
    "Por lo  tanto la desviación típica es \n",
    "\n",
    "$$\\sqrt{Var(X)}=\\sqrt{`r 10*0.4*0.6`}= `r sqrt(10*0.4*0.6)`.$$"
   ]
  }
 ],
 "metadata": {
  "kernelspec": {
   "display_name": "R",
   "language": "R",
   "name": "conda-env-r-r"
  },
  "language_info": {
   "codemirror_mode": "r",
   "file_extension": ".r",
   "mimetype": "text/x-r-source",
   "name": "R",
   "pygments_lexer": "r",
   "version": "3.5.1"
  }
 },
 "nbformat": 4,
 "nbformat_minor": 4
}
