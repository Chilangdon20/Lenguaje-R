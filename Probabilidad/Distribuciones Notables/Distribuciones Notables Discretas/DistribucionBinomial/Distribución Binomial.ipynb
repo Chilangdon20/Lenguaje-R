{
 "cells": [
  {
   "cell_type": "markdown",
   "metadata": {},
   "source": [
    "#  Distribución binomial\n",
    "\n",
    "## Intro:\n",
    "\n",
    "<l class=definition> Distribución binomial </l>\n",
    "\n",
    "Si repetimos $n$ veces de forma independiente un experimento [Bernoulli](\"https://github.com/Chilangdon20/Lenguaje-R/wiki/Distribución-de-Bernoulli\") de parámetro $p$.\n",
    "\n",
    "El espacio muestral $\\Omega$ estará formado por cadenas de $E$'s y $F$'s de longitud $n$\n",
    "Consideremos la v.a.\n",
    "\n",
    "$$X(\\overbrace{EFFF\\ldots EEF}^{n})=\\mbox{número de éxitos en la cadena}.$$\n",
    "\n",
    "A la variable aleatoria anterior se le conoce como distribución binomial de parámetros $n$ y $p$, y lo denotaremos por $X\\equiv B(n,p).$\n",
    "\n",
    "## Función de probabilidad de la Distribución Binomial\n",
    "\n",
    "$$\n",
    "P_{X}(x)=\\left\\{\n",
    "\\begin{array}{ll}\n",
    "{n\\choose x}\\cdot  p^x \\cdot(1-p)^{n-x} &\\mbox{ si } x=0,1,\\ldots,n\\\\\n",
    "0  & \\mbox{ en otro caso}\n",
    "\\end{array}\\right..\n",
    "$$\n",
    "## Función de distribución de la Binomial.\n",
    "\n",
    "Es importante mencionar que su **función de distribución** no tiene una fórmula cerrada. Hay que acumular la función de probabilidad:\n",
    "\n",
    "$$\n",
    "\\begin{eqnarray*}\n",
    "F_{X}(x)=P(X\\leq x) & = & \\sum_{i=0}^x P_X(i)\\\\\n",
    "& = & \n",
    "\\left\\{\n",
    "\\begin{array}{ll}\n",
    "0 & \\mbox{ si } x\\leq 0\\\\\\displaystyle\n",
    "\\sum_{i=0}^k {n\\choose i}\\cdot  p^i \\cdot (1-p)^{n-i} & \\mbox{ si } \n",
    "\\left\\{\n",
    "  \\begin{array}{l} \n",
    "  k\\leq x< k+1\\\\\n",
    "  k=0,1,\\ldots,n.\n",
    "  \\end{array}\n",
    "\\right.\\\\\n",
    "1 & \\mbox{ si } n\\leq x\n",
    "\\end{array}\n",
    "\\right.\n",
    "\\end{eqnarray*}\n",
    "$$\n",
    "\n",
    "## Observaciones importantes.\n",
    "\n",
    "* La probabilidad de fracaso se suele denotar con  $q=1-p$, **sin ningún aviso adicional**, con el fin de acortar  y agilizar la escritura de las  fórmulas.\n",
    "\n",
    "* Su **función de distribución no tienen una formula general**, hay que calcularla con una función de R o python... En el siglo pasado se tabulaban en los libros de papel.\n",
    "\n",
    "## Esperanza de una Binomial.\n",
    "\n",
    "Su **esperanza** es la siguiente:\n",
    "\n",
    "$$E(X)=\\displaystyle\\sum_{k=0}^n k \\cdot  {n \\choose k }\\cdot p^k\\cdot q^{n-k} = n\\cdot p.$$\n",
    "\n",
    "La esperanza de $X^2$ es:\n",
    "\n",
    "$$\n",
    "\\begin{eqnarray*}\n",
    "E(X^2)&=& \\displaystyle\\sum_{k=0}^n k^2 \\cdot  {n \\choose k }\\cdot p^k\\cdot q^{n-k}\\\\\n",
    "&=& n\\cdot p\\cdot q+(n\\cdot p)^2.\n",
    "\\end{eqnarray*}\n",
    "$$\n",
    "\n",
    "Su **varianza** es:\n",
    "\n",
    " $$Var(X)=E(X^2)-\\left(E(X)\\right)^2=n\\cdot p \\cdot q=n\\cdot p\\cdot (1-p).$$\n",
    " \n",
    "Su **desviacion típica es:\n",
    " \n",
    " $$\\sqrt{n\\cdot p\\cdot q}=\\sqrt{n\\cdot p\\cdot (1-p)}.$$\n",
    " \n",
    "## Rseumen teorico:\n",
    "\n",
    "\n",
    "$X$ binomial | $B(n,p)$ \n",
    "-------------:|:--------\n",
    "$D_X=$ |  $\\{0,1,\\ldots n\\}$ \n",
    "$P_X(x)=P(X=x)=$ |$\\left\\{\\begin{array}{ll}{n\\choose x}\\cdot  p^x\\cdot  (1-p)^{n-x} & \\mbox{ si } x=0,1,\\ldots,n\\\\0  & \\mbox{ en otro caso.}\\end{array}\\right.$\n",
    "$F_X(x)=P(X\\leq X)=$ | no tiene fórmula \n",
    "$E(X)=$ |  $n\\cdot p$\n",
    "$Var(X)=$ | $n\\cdot p \\cdot (1-p)$\n",
    "\n",
    "\n"
   ]
  },
  {
   "cell_type": "markdown",
   "metadata": {},
   "source": [
    "## Codígo en ``R``\n",
    "\n",
    "Ahora veremos los cálculos básicos con funciones de R para una v.a $X$ con distribución  binomial  $B(n=10,p=0.5)$. \n",
    "\n",
    "Si queremos calcular con `R` algún valor de la función de distribución como por ejemplo $F_X(0)=P(X\\leq 0)$, tenemos que hacer:\n",
    "```{r Funcion Binomial}\n"
   ]
  },
  {
   "cell_type": "code",
   "execution_count": 1,
   "metadata": {},
   "outputs": [
    {
     "data": {
      "text/html": [
       "0.0009765625"
      ],
      "text/latex": [
       "0.0009765625"
      ],
      "text/markdown": [
       "0.0009765625"
      ],
      "text/plain": [
       "[1] 0.0009765625"
      ]
     },
     "metadata": {},
     "output_type": "display_data"
    }
   ],
   "source": [
    "pbinom(0,size=10,prob=0.5)"
   ]
  },
  {
   "cell_type": "markdown",
   "metadata": {},
   "source": [
    "En cambio si queremos realizar $F_X(4)=P(X\\leq 4)$:\n",
    "\n",
    "\n"
   ]
  },
  {
   "cell_type": "code",
   "execution_count": 2,
   "metadata": {},
   "outputs": [
    {
     "data": {
      "text/html": [
       "0.921873092651367"
      ],
      "text/latex": [
       "0.921873092651367"
      ],
      "text/markdown": [
       "0.921873092651367"
      ],
      "text/plain": [
       "[1] 0.9218731"
      ]
     },
     "metadata": {},
     "output_type": "display_data"
    }
   ],
   "source": [
    "pbinom(4,size=10,prob=0.25)"
   ]
  },
  {
   "cell_type": "markdown",
   "metadata": {},
   "source": [
    "Es importante saber que si nostros queremos algún vair de la funcióde probabilidad como por ejemplo $P(X=0)$:\n"
   ]
  },
  {
   "cell_type": "code",
   "execution_count": 3,
   "metadata": {},
   "outputs": [
    {
     "data": {
      "text/html": [
       "0.0009765625"
      ],
      "text/latex": [
       "0.0009765625"
      ],
      "text/markdown": [
       "0.0009765625"
      ],
      "text/plain": [
       "[1] 0.0009765625"
      ]
     },
     "metadata": {},
     "output_type": "display_data"
    }
   ],
   "source": [
    "dbinom(0,size=10,prob=0.50)\n"
   ]
  },
  {
   "cell_type": "markdown",
   "metadata": {},
   "source": [
    "Ahora vamos a generar una muestra de valores aleatorios de 50 valores de una poblacion con distribucion $B(20,0.5)$\n",
    "\n"
   ]
  },
  {
   "cell_type": "code",
   "execution_count": 4,
   "metadata": {},
   "outputs": [
    {
     "data": {
      "text/html": [
       "<style>\n",
       ".list-inline {list-style: none; margin:0; padding: 0}\n",
       ".list-inline>li {display: inline-block}\n",
       ".list-inline>li:not(:last-child)::after {content: \"\\00b7\"; padding: 0 .5ex}\n",
       "</style>\n",
       "<ol class=list-inline><li>8</li><li>11</li><li>6</li><li>5</li><li>8</li><li>7</li><li>9</li><li>14</li><li>12</li><li>10</li><li>9</li><li>10</li><li>7</li><li>15</li><li>12</li><li>11</li><li>11</li><li>8</li><li>13</li><li>11</li><li>10</li><li>13</li><li>11</li><li>12</li><li>11</li><li>9</li><li>8</li><li>12</li><li>10</li><li>13</li><li>13</li><li>12</li><li>10</li><li>9</li><li>10</li><li>10</li><li>12</li><li>7</li><li>10</li><li>10</li><li>10</li><li>9</li><li>11</li><li>6</li><li>10</li><li>6</li><li>8</li><li>11</li><li>12</li><li>14</li></ol>\n"
      ],
      "text/latex": [
       "\\begin{enumerate*}\n",
       "\\item 8\n",
       "\\item 11\n",
       "\\item 6\n",
       "\\item 5\n",
       "\\item 8\n",
       "\\item 7\n",
       "\\item 9\n",
       "\\item 14\n",
       "\\item 12\n",
       "\\item 10\n",
       "\\item 9\n",
       "\\item 10\n",
       "\\item 7\n",
       "\\item 15\n",
       "\\item 12\n",
       "\\item 11\n",
       "\\item 11\n",
       "\\item 8\n",
       "\\item 13\n",
       "\\item 11\n",
       "\\item 10\n",
       "\\item 13\n",
       "\\item 11\n",
       "\\item 12\n",
       "\\item 11\n",
       "\\item 9\n",
       "\\item 8\n",
       "\\item 12\n",
       "\\item 10\n",
       "\\item 13\n",
       "\\item 13\n",
       "\\item 12\n",
       "\\item 10\n",
       "\\item 9\n",
       "\\item 10\n",
       "\\item 10\n",
       "\\item 12\n",
       "\\item 7\n",
       "\\item 10\n",
       "\\item 10\n",
       "\\item 10\n",
       "\\item 9\n",
       "\\item 11\n",
       "\\item 6\n",
       "\\item 10\n",
       "\\item 6\n",
       "\\item 8\n",
       "\\item 11\n",
       "\\item 12\n",
       "\\item 14\n",
       "\\end{enumerate*}\n"
      ],
      "text/markdown": [
       "1. 8\n",
       "2. 11\n",
       "3. 6\n",
       "4. 5\n",
       "5. 8\n",
       "6. 7\n",
       "7. 9\n",
       "8. 14\n",
       "9. 12\n",
       "10. 10\n",
       "11. 9\n",
       "12. 10\n",
       "13. 7\n",
       "14. 15\n",
       "15. 12\n",
       "16. 11\n",
       "17. 11\n",
       "18. 8\n",
       "19. 13\n",
       "20. 11\n",
       "21. 10\n",
       "22. 13\n",
       "23. 11\n",
       "24. 12\n",
       "25. 11\n",
       "26. 9\n",
       "27. 8\n",
       "28. 12\n",
       "29. 10\n",
       "30. 13\n",
       "31. 13\n",
       "32. 12\n",
       "33. 10\n",
       "34. 9\n",
       "35. 10\n",
       "36. 10\n",
       "37. 12\n",
       "38. 7\n",
       "39. 10\n",
       "40. 10\n",
       "41. 10\n",
       "42. 9\n",
       "43. 11\n",
       "44. 6\n",
       "45. 10\n",
       "46. 6\n",
       "47. 8\n",
       "48. 11\n",
       "49. 12\n",
       "50. 14\n",
       "\n",
       "\n"
      ],
      "text/plain": [
       " [1]  8 11  6  5  8  7  9 14 12 10  9 10  7 15 12 11 11  8 13 11 10 13 11 12 11\n",
       "[26]  9  8 12 10 13 13 12 10  9 10 10 12  7 10 10 10  9 11  6 10  6  8 11 12 14"
      ]
     },
     "metadata": {},
     "output_type": "display_data"
    }
   ],
   "source": [
    "rbinom(50,size=20,prob = 0.5)"
   ]
  },
  {
   "cell_type": "markdown",
   "metadata": {},
   "source": [
    "## Gráficos de la funcion de distribución binomial en `R`\n",
    "\n"
   ]
  },
  {
   "cell_type": "code",
   "execution_count": 5,
   "metadata": {},
   "outputs": [
    {
     "data": {
      "image/png": "[encoded data removed]",
      "text/plain": [
       "Plot with title “Función de Distribución”"
      ]
     },
     "metadata": {},
     "output_type": "display_data",
     "source": "R display func"
    }
   ],
   "source": [
    "#Creamos una figura de una fila & 2 columnas.\n",
    "par(mfrow=c(1,2))\n",
    "#Creamos una repeticion de 0 a 22 valores\n",
    "aux=rep(0,22)\n",
    "#Generamos numeros entre el interalo [2,22]\n",
    "aux[seq(2,22,2)]=dbinom(c(0:10),size = 10,prob = 0.35)\n",
    "#Empezamos a graficar nuestros valores\n",
    "plot(x=c(0:10),y=dbinom(c(0:10),size = 10,prob = 0.35),\n",
    "     ylim=c(0,1),xlim=c(-1,12),xlab=\"parametros\",ylab=\"probbilidad\",\n",
    "     main=\"Función de Probabilidad \")\n",
    "#Camos formato a nuestras lineaas.\n",
    "lines(x=rep(0:10,each=2),y=aux,type=\"h\",lty=2,col=\"red\")\n",
    "#Generamos una funcion continua sobre la misma frafica\n",
    "curve(pbinom(x,size = 10,prob=0.35),\n",
    "      xlim = c(-1,12),col=\"blue\",\n",
    "      xlab=\"parametros\",ylab=\"probabilidad\",\n",
    "      main=\"Función de Distribución\")\n",
    "par(mfrow=c(1,1))\n"
   ]
  },
  {
   "cell_type": "markdown",
   "metadata": {},
   "source": [
    "## Cálculos distribución binomial con python\n",
    "\n",
    "Ahora veremos los cálculos básicos con funciones de python para una v.a $X$ con distribución  binomial  $B(n=10,p=0.25)$.\n",
    "\n",
    "Primero importamos la  función `binom` de la librería `scipy.stat`\n"
   ]
  },
  {
   "cell_type": "code",
   "execution_count": 1,
   "metadata": {},
   "outputs": [],
   "source": [
    "from scipy.stats import binom"
   ]
  },
  {
   "cell_type": "markdown",
   "metadata": {},
   "source": [
    "Es importante recalrcar que en el paquete `scipy`, la funcion de probabilidad de invocará con el método `pmf`probability mass function , la función de distribución con el metodo `cdf` , mientras que por otro lado una mustra aleatoria que siga la distribucon con el metodo `rvs`.\n",
    "\n",
    "\n",
    "```\n",
    "binom.pmf(k, n, p, loc) =  binom.pmf(k - loc, n, p)\n",
    "```\n",
    "\n",
    "Para calcular los valores de la función de distribución como por ejemplo $F_X(0)=P(X\\leq 0)$ y $F_X(4)=P(X\\leq 4)$ utilizamos la función `cdf`"
   ]
  },
  {
   "cell_type": "code",
   "execution_count": 4,
   "metadata": {},
   "outputs": [
    {
     "data": {
      "text/plain": [
       "0.9218730926513672"
      ]
     },
     "execution_count": 4,
     "metadata": {},
     "output_type": "execute_result"
    }
   ],
   "source": [
    "binom.cdf(0,n=10,p=0.25)\n",
    "binom.cdf(4,n=10,p=0.25)"
   ]
  },
  {
   "cell_type": "markdown",
   "metadata": {},
   "source": [
    "Si queremos generar una muestras aleatorias que siga una distribución binomial, podemos usar la función `rvs`. En este caso, generaremos una muestra aleatoria  de  100 valores  de una población $B(20,0.5)$"
   ]
  },
  {
   "cell_type": "code",
   "execution_count": 5,
   "metadata": {},
   "outputs": [
    {
     "data": {
      "text/plain": [
       "array([ 3,  7, 10,  8,  3,  4,  5,  3,  3,  4,  5,  5,  7,  5,  3,  9,  1,\n",
       "        5,  8,  7,  9,  8,  3,  1,  5,  5,  6,  7,  5,  5,  4,  9,  4,  2,\n",
       "        3,  6,  6,  3,  5,  4,  1,  5,  8,  7,  2,  5,  5,  3,  5,  5,  4,\n",
       "        4,  7,  4,  0,  4,  5,  4,  4,  9,  5,  5,  6,  6,  4,  7,  6,  7,\n",
       "        3,  5,  6,  5,  7,  2,  5,  3,  6,  5,  7,  4,  8,  5,  5,  3,  6,\n",
       "        5,  6,  4,  6,  6,  2,  2,  5,  4,  6,  2,  6,  5,  5,  4])"
      ]
     },
     "execution_count": 5,
     "metadata": {},
     "output_type": "execute_result"
    }
   ],
   "source": [
    "binom.rvs(n=20,p=0.25,size = 100)"
   ]
  },
  {
   "cell_type": "markdown",
   "metadata": {},
   "source": [
    "## Gráficos con Python."
   ]
  },
  {
   "cell_type": "code",
   "execution_count": 7,
   "metadata": {},
   "outputs": [
    {
     "data": {
      "image/png": "[encoded data removed]",
      "text/plain": [
       "<Figure size 360x194.4 with 2 Axes>"
      ]
     },
     "metadata": {
      "needs_background": "light"
     },
     "output_type": "display_data"
    }
   ],
   "source": [
    "import numpy as np\n",
    "import matplotlib.pyplot as plt\n",
    "\n",
    "n, p = 10, 0.25\n",
    "x = np.arange(binom.ppf(0.01, n, p),binom.ppf(0.99, n, p))\n",
    "fig =plt.figure(figsize=(5, 2.7))\n",
    "ax = fig.add_subplot(1,2,1)\n",
    "ax.plot(x, binom.pmf(x, n, p), 'bo', ms=8, label='binom pmf')\n",
    "ax.vlines(x, 0, binom.pmf(x, n, p), colors='b', lw=5, alpha=0.5)\n",
    "for tick in ax.xaxis.get_major_ticks():\n",
    "  tick.label.set_fontsize(5)\n",
    "for tick in ax.yaxis.get_major_ticks():\n",
    "  tick.label.set_fontsize(5) \n",
    "ax = fig.add_subplot(1,2,2)\n",
    "ax.plot(x, binom.cdf(x, n, p), 'bo', ms=8, label='binom pmf')\n",
    "ax.vlines(x, 0, binom.cdf(x, n, p), colors='b', lw=5, alpha=0.5)\n",
    "for tick in ax.xaxis.get_major_ticks():\n",
    "  tick.label.set_fontsize(5)\n",
    "for tick in ax.yaxis.get_major_ticks():\n",
    "  tick.label.set_fontsize(5)\n",
    "fig.suptitle('Distribucion Binomial')\n",
    "plt.show()"
   ]
  },
  {
   "cell_type": "code",
   "execution_count": null,
   "metadata": {},
   "outputs": [],
   "source": []
  }
 ],
 "metadata": {
  "kernelspec": {
   "display_name": "Python",
   "language": "python",
   "name": "conda-env-python-py"
  },
  "language_info": {
   "codemirror_mode": {
    "name": "ipython",
    "version": 3
   },
   "file_extension": ".py",
   "mimetype": "text/x-python",
   "name": "python",
   "nbconvert_exporter": "python",
   "pygments_lexer": "ipython3",
   "version": "3.6.10"
  }
 },
 "nbformat": 4,
 "nbformat_minor": 4
}
