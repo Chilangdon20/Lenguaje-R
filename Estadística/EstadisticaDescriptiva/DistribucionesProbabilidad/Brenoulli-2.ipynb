{
 "cells": [
  {
   "cell_type": "markdown",
   "metadata": {},
   "source": [
    "\n",
    "\n",
    "## Distribucion de Bernoulli\n",
    "\n",
    "Si $X$ es variable aleatoria que mide el \"número de éxitos\" y se realiza un único experimento con dos posibles resultados (éxito, que toma valor 1, o fracaso, que toma valor 0), diremos que $X$ se distribuye como una Bernoulli con parámetro $p$\n",
    "\n",
    "$$X\\sim \\text{Be}(p)$$\n",
    "\n",
    "donde $p$ es la probabilidad de éxito y $q = 1-p$ es la probabilidad de fracaso.\n",
    "\n",
    "- El **dominio** de $X$ será $D_X = \\{0,1\\}$\n",
    "- La **función de probabilidad** vendrá dada por $$f(k) = p^k(1-p)^{1-k} =  \\left\\{\n",
    "\\begin{array}{rl}\n",
    "     p & \\text{si } k=1 \n",
    "  \\\\ 1-p & \\text{si } k=0\n",
    "  \\\\ 0 & \\text{en cualquier otro caso}\n",
    "\\end{array}\n",
    "\\right.$$\n",
    "\n",
    "- La **función de distribución** vendrá dada por $$F(x) = \\left\\{\n",
    "\\begin{array}{rl}\n",
    "     0 & \\text{si } x<0 \n",
    "  \\\\ 1-p & \\text{si } 0\\le x<1\n",
    "  \\\\ 1 & \\text{si } x\\ge 1\n",
    "\\end{array}\n",
    "\\right.$$\n",
    "- **Esperanza** $E(X) = p$\n",
    "- **Varianza** $Var(X) = pq$\n",
    "\n",
    "\n",
    "## El codigo de la distribucion de Bernoulli:\n",
    "\n",
    "En **R** tenemos las funciones del paquete **Rlab:**\n",
    "\n",
    "  * ``dbern(x,prob`` -> Funcion de densidad/x es el valor de dominio & prob = es la probabillidad de exito\n",
    "  \n",
    "  \n",
    "  *``pbenr(1,prob`` -> Funcion de distribucion/q es el valor de dominio &           prob = oBTENER LA FUNCION DE DISTRIBUCION\n",
    "  \n",
    "  \n",
    "  \n",
    "  *``qbern(p,pro)`` -> q= Cuantil/prob = valor de dicho cuantil.\n",
    "  \n",
    "  \n",
    "  \n",
    "  * ``rbern(n,prob`` -> Generar valores aleatorios.\n",
    "  \n",
    "Donde prob es la probabilidad de exito.\n",
    "\n",
    "\n",
    "\n",
    "Sea $X = Be(p=0.7)$, la distribucion que modela la probabilidad de obtener una cara usando una moneda no etica."
   ]
  },
  {
   "cell_type": "code",
   "execution_count": 6,
   "metadata": {},
   "outputs": [
    {
     "name": "stderr",
     "output_type": "stream",
     "text": [
      "Rlab 2.15.1 attached.\n",
      "\n",
      "\n",
      "Attaching package: ‘Rlab’\n",
      "\n",
      "The following objects are masked from ‘package:stats’:\n",
      "\n",
      "    dexp, dgamma, dweibull, pexp, pgamma, pweibull, qexp, qgamma,\n",
      "    qweibull, rexp, rgamma, rweibull\n",
      "\n",
      "The following object is masked from ‘package:datasets’:\n",
      "\n",
      "    precip\n",
      "\n"
     ]
    }
   ],
   "source": [
    "#Instalamos la libreria necesaria\n",
    "#install.packages(\"Rlab\")\n",
    "library(Rlab)"
   ]
  },
  {
   "cell_type": "code",
   "execution_count": 7,
   "metadata": {},
   "outputs": [
    {
     "data": {
      "text/html": [
       "0.3"
      ],
      "text/latex": [
       "0.3"
      ],
      "text/markdown": [
       "0.3"
      ],
      "text/plain": [
       "[1] 0.3"
      ]
     },
     "metadata": {},
     "output_type": "display_data"
    },
    {
     "data": {
      "text/html": [
       "0.7"
      ],
      "text/latex": [
       "0.7"
      ],
      "text/markdown": [
       "0.7"
      ],
      "text/plain": [
       "[1] 0.7"
      ]
     },
     "metadata": {},
     "output_type": "display_data"
    },
    {
     "data": {
      "text/html": [
       "0.3"
      ],
      "text/latex": [
       "0.3"
      ],
      "text/markdown": [
       "0.3"
      ],
      "text/plain": [
       "[1] 0.3"
      ]
     },
     "metadata": {},
     "output_type": "display_data"
    },
    {
     "data": {
      "text/html": [
       "1"
      ],
      "text/latex": [
       "1"
      ],
      "text/markdown": [
       "1"
      ],
      "text/plain": [
       "[1] 1"
      ]
     },
     "metadata": {},
     "output_type": "display_data"
    },
    {
     "data": {
      "text/html": [
       "1"
      ],
      "text/latex": [
       "1"
      ],
      "text/markdown": [
       "1"
      ],
      "text/plain": [
       "[1] 1"
      ]
     },
     "metadata": {},
     "output_type": "display_data"
    }
   ],
   "source": [
    "dbern(0,prob=0.7)\n",
    "dbern(1,prob=0.7)\n",
    "pbern(0,prob = 0.7)\n",
    "pbern(1,prob = 0.7)\n",
    "qbern(0.5,prob=0.7)\n",
    "rbern(100,prob=0.7) -> data\n",
    "\n"
   ]
  },
  {
   "cell_type": "code",
   "execution_count": 8,
   "metadata": {},
   "outputs": [
    {
     "data": {
      "image/png": "[encoded data removed]",
      "text/plain": [
       "Plot with title “Histograma de datos”"
      ]
     },
     "metadata": {},
     "output_type": "display_data",
     "source": "R display func"
    }
   ],
   "source": [
    "hist(data,col=c(\"red\",\"green4\"), main=\"Histograma de datos\")"
   ]
  },
  {
   "cell_type": "markdown",
   "metadata": {},
   "source": [
    "## En python:"
   ]
  },
  {
   "cell_type": "code",
   "execution_count": 4,
   "metadata": {},
   "outputs": [
    {
     "name": "stdout",
     "output_type": "stream",
     "text": [
      "La Media es: 0.7\n",
      "La Varianza es: 0.21000000000000002\n",
      "El Sesgo es : -0.8728715609439702\n",
      "La curtosis es: -1.2380952380952361\n"
     ]
    }
   ],
   "source": [
    "from scipy.stats import bernoulli\n",
    "import matplotlib.pyplot as plt\n",
    "p = 0.7\n",
    "mean,var,skew,kurt = bernoulli.stats(p, moments= 'mvsk')\n",
    "\n",
    "print(\"La Media es:\",mean)\n",
    "print(\"La Varianza es:\",var)\n",
    "print(\"El Sesgo es :\",skew)\n",
    "print(\"La curtosis es:\",kurt)\n"
   ]
  },
  {
   "cell_type": "code",
   "execution_count": 16,
   "metadata": {},
   "outputs": [
    {
     "data": {
      "image/png": "[encoded data removed]",
      "text/plain": [
       "<Figure size 432x288 with 1 Axes>"
      ]
     },
     "metadata": {
      "needs_background": "light"
     },
     "output_type": "display_data"
    }
   ],
   "source": [
    "#Grafico:\n",
    "fig, ax = plt.subplots(1,1)\n",
    "x = bernoulli.rvs(p,size = 1000)\n",
    "ax.hist(x)\n",
    "plt.show()\n"
   ]
  },
  {
   "cell_type": "code",
   "execution_count": null,
   "metadata": {},
   "outputs": [],
   "source": []
  }
 ],
 "metadata": {
  "kernelspec": {
   "display_name": "R",
   "language": "R",
   "name": "conda-env-r-r"
  },
  "language_info": {
   "codemirror_mode": "r",
   "file_extension": ".r",
   "mimetype": "text/x-r-source",
   "name": "R",
   "pygments_lexer": "r",
   "version": "3.5.1"
  }
 },
 "nbformat": 4,
 "nbformat_minor": 4
}
